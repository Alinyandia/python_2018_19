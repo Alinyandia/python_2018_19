{
 "cells": [
  {
   "cell_type": "markdown",
   "metadata": {},
   "source": [
    "### Алина Шаймарданова"
   ]
  },
  {
   "cell_type": "markdown",
   "metadata": {},
   "source": [
    "# Assignment 4: Named entity recognition\n",
    "\n",
    "Построить модель для обнаружения и классификации именованных сущностей (named entities). На базе корпуса CoNLL 2002.  \n",
    "\n",
    "Используйте в своем решении ансамбли над решающими деревьями: RandomForest, Gradient Boosting (xgboost, lightgbm, catboost) \n",
    "Tutorials:  \n",
    "1. https://github.com/Microsoft/LightGBM/tree/master/examples/python-guide\n",
    "1. https://github.com/catboost/tutorials \n",
    "\n",
    "\n",
    "Чем больше baseline'ов вы превзойдете, тем выше ваша оценка\n",
    "Метрика качества f1 (f1_macro) (чем выше, тем лучше)\n",
    " \n",
    "baseline 1: 0.0604      random labels  \n",
    "baseline 2: 0.3966      PoS features + logistic regression  \n",
    "baseline 3: 0.8122      word2vec cbow embedding + baseline 2 + svm    \n",
    "\n",
    "! Your results must be reproducible. Если ваша модель - стохастическая, то вы явно должны задавать все seed и random_state в параметрах моделей   \n",
    "\n",
    "bonus, think about:  \n",
    "1. How can you exploit that words belong to some sentence?\n",
    "2. Why we selected f1 score with macro averaging as our classification quality measure? What other metrics are suitable?   "
   ]
  },
  {
   "cell_type": "code",
   "execution_count": 1,
   "metadata": {
    "collapsed": true
   },
   "outputs": [],
   "source": [
    "import pandas as pd\n",
    "import numpy as np\n",
    "from sklearn.feature_extraction.text import HashingVectorizer\n",
    "from sklearn import model_selection\n",
    "from sklearn.pipeline import Pipeline\n",
    "from sklearn.linear_model import LogisticRegressionCV\n",
    "from sklearn.preprocessing import LabelEncoder\n",
    "from sklearn import metrics\n",
    "\n",
    "import warnings\n",
    "warnings.filterwarnings('ignore')\n",
    "\n",
    "import matplotlib.pyplot as plt\n",
    "import seaborn as sns\n",
    "%matplotlib inline\n",
    "\n",
    "\n",
    "SEED=1337"
   ]
  },
  {
   "cell_type": "code",
   "execution_count": 2,
   "metadata": {},
   "outputs": [
    {
     "data": {
      "text/html": [
       "<div>\n",
       "<style>\n",
       "    .dataframe thead tr:only-child th {\n",
       "        text-align: right;\n",
       "    }\n",
       "\n",
       "    .dataframe thead th {\n",
       "        text-align: left;\n",
       "    }\n",
       "\n",
       "    .dataframe tbody tr th {\n",
       "        vertical-align: top;\n",
       "    }\n",
       "</style>\n",
       "<table border=\"1\" class=\"dataframe\">\n",
       "  <thead>\n",
       "    <tr style=\"text-align: right;\">\n",
       "      <th></th>\n",
       "      <th>next-next-pos</th>\n",
       "      <th>next-next-word</th>\n",
       "      <th>next-pos</th>\n",
       "      <th>next-word</th>\n",
       "      <th>pos</th>\n",
       "      <th>prev-pos</th>\n",
       "      <th>prev-prev-pos</th>\n",
       "      <th>prev-prev-word</th>\n",
       "      <th>prev-word</th>\n",
       "      <th>sentence_idx</th>\n",
       "      <th>word</th>\n",
       "      <th>tag</th>\n",
       "    </tr>\n",
       "  </thead>\n",
       "  <tbody>\n",
       "    <tr>\n",
       "      <th>0</th>\n",
       "      <td>NNS</td>\n",
       "      <td>demonstrators</td>\n",
       "      <td>IN</td>\n",
       "      <td>of</td>\n",
       "      <td>NNS</td>\n",
       "      <td>__START1__</td>\n",
       "      <td>__START2__</td>\n",
       "      <td>__START2__</td>\n",
       "      <td>__START1__</td>\n",
       "      <td>1.0</td>\n",
       "      <td>Thousands</td>\n",
       "      <td>O</td>\n",
       "    </tr>\n",
       "    <tr>\n",
       "      <th>1</th>\n",
       "      <td>VBP</td>\n",
       "      <td>have</td>\n",
       "      <td>NNS</td>\n",
       "      <td>demonstrators</td>\n",
       "      <td>IN</td>\n",
       "      <td>NNS</td>\n",
       "      <td>__START1__</td>\n",
       "      <td>__START1__</td>\n",
       "      <td>Thousands</td>\n",
       "      <td>1.0</td>\n",
       "      <td>of</td>\n",
       "      <td>O</td>\n",
       "    </tr>\n",
       "    <tr>\n",
       "      <th>2</th>\n",
       "      <td>VBN</td>\n",
       "      <td>marched</td>\n",
       "      <td>VBP</td>\n",
       "      <td>have</td>\n",
       "      <td>NNS</td>\n",
       "      <td>IN</td>\n",
       "      <td>NNS</td>\n",
       "      <td>Thousands</td>\n",
       "      <td>of</td>\n",
       "      <td>1.0</td>\n",
       "      <td>demonstrators</td>\n",
       "      <td>O</td>\n",
       "    </tr>\n",
       "    <tr>\n",
       "      <th>3</th>\n",
       "      <td>IN</td>\n",
       "      <td>through</td>\n",
       "      <td>VBN</td>\n",
       "      <td>marched</td>\n",
       "      <td>VBP</td>\n",
       "      <td>NNS</td>\n",
       "      <td>IN</td>\n",
       "      <td>of</td>\n",
       "      <td>demonstrators</td>\n",
       "      <td>1.0</td>\n",
       "      <td>have</td>\n",
       "      <td>O</td>\n",
       "    </tr>\n",
       "    <tr>\n",
       "      <th>4</th>\n",
       "      <td>NNP</td>\n",
       "      <td>London</td>\n",
       "      <td>IN</td>\n",
       "      <td>through</td>\n",
       "      <td>VBN</td>\n",
       "      <td>VBP</td>\n",
       "      <td>NNS</td>\n",
       "      <td>demonstrators</td>\n",
       "      <td>have</td>\n",
       "      <td>1.0</td>\n",
       "      <td>marched</td>\n",
       "      <td>O</td>\n",
       "    </tr>\n",
       "  </tbody>\n",
       "</table>\n",
       "</div>"
      ],
      "text/plain": [
       "  next-next-pos next-next-word next-pos      next-word  pos    prev-pos  \\\n",
       "0           NNS  demonstrators       IN             of  NNS  __START1__   \n",
       "1           VBP           have      NNS  demonstrators   IN         NNS   \n",
       "2           VBN        marched      VBP           have  NNS          IN   \n",
       "3            IN        through      VBN        marched  VBP         NNS   \n",
       "4           NNP         London       IN        through  VBN         VBP   \n",
       "\n",
       "  prev-prev-pos prev-prev-word      prev-word  sentence_idx           word tag  \n",
       "0    __START2__     __START2__     __START1__           1.0      Thousands   O  \n",
       "1    __START1__     __START1__      Thousands           1.0             of   O  \n",
       "2           NNS      Thousands             of           1.0  demonstrators   O  \n",
       "3            IN             of  demonstrators           1.0           have   O  \n",
       "4           NNS  demonstrators           have           1.0        marched   O  "
      ]
     },
     "execution_count": 2,
     "metadata": {},
     "output_type": "execute_result"
    }
   ],
   "source": [
    "df = pd.read_csv('/Users/alinashaymardanova/Downloads/data/ner_short.csv', index_col=0)\n",
    "df.head()"
   ]
  },
  {
   "cell_type": "code",
   "execution_count": 3,
   "metadata": {},
   "outputs": [
    {
     "data": {
      "text/plain": [
       "1500.0"
      ]
     },
     "execution_count": 3,
     "metadata": {},
     "output_type": "execute_result"
    }
   ],
   "source": [
    "# number of sentences\n",
    "df.sentence_idx.max()"
   ]
  },
  {
   "cell_type": "code",
   "execution_count": 4,
   "metadata": {},
   "outputs": [
    {
     "data": {
      "text/plain": [
       "O        0.852828\n",
       "B-geo    0.027604\n",
       "B-gpe    0.020935\n",
       "B-org    0.020247\n",
       "I-per    0.017795\n",
       "B-tim    0.016927\n",
       "B-per    0.015312\n",
       "I-org    0.013937\n",
       "I-geo    0.005383\n",
       "I-tim    0.004247\n",
       "B-art    0.001376\n",
       "I-gpe    0.000837\n",
       "I-art    0.000748\n",
       "B-eve    0.000628\n",
       "I-eve    0.000508\n",
       "B-nat    0.000449\n",
       "I-nat    0.000239\n",
       "Name: tag, dtype: float64"
      ]
     },
     "execution_count": 4,
     "metadata": {},
     "output_type": "execute_result"
    }
   ],
   "source": [
    "# class distribution\n",
    "df.tag.value_counts(normalize=True )"
   ]
  },
  {
   "cell_type": "code",
   "execution_count": 5,
   "metadata": {
    "collapsed": true
   },
   "outputs": [],
   "source": [
    "# sentence length\n",
    "tdf = df.set_index('sentence_idx')\n",
    "tdf['length'] = df.groupby('sentence_idx').tag.count()\n",
    "df = tdf.reset_index(drop=False)"
   ]
  },
  {
   "cell_type": "code",
   "execution_count": 6,
   "metadata": {
    "collapsed": true
   },
   "outputs": [],
   "source": [
    "# encode categorial variables\n",
    "\n",
    "le = LabelEncoder()\n",
    "df['pos'] = le.fit_transform(df.pos)\n",
    "df['next-pos'] = le.fit_transform(df['next-pos'])\n",
    "df['next-next-pos'] = le.fit_transform(df['next-next-pos'])\n",
    "df['prev-pos'] = le.fit_transform(df['prev-pos'])\n",
    "df['prev-prev-pos'] = le.fit_transform(df['prev-prev-pos'])"
   ]
  },
  {
   "cell_type": "code",
   "execution_count": 7,
   "metadata": {},
   "outputs": [
    {
     "data": {
      "text/html": [
       "<div>\n",
       "<style>\n",
       "    .dataframe thead tr:only-child th {\n",
       "        text-align: right;\n",
       "    }\n",
       "\n",
       "    .dataframe thead th {\n",
       "        text-align: left;\n",
       "    }\n",
       "\n",
       "    .dataframe tbody tr th {\n",
       "        vertical-align: top;\n",
       "    }\n",
       "</style>\n",
       "<table border=\"1\" class=\"dataframe\">\n",
       "  <thead>\n",
       "    <tr style=\"text-align: right;\">\n",
       "      <th></th>\n",
       "      <th>sentence_idx</th>\n",
       "      <th>next-next-pos</th>\n",
       "      <th>next-next-word</th>\n",
       "      <th>next-pos</th>\n",
       "      <th>next-word</th>\n",
       "      <th>pos</th>\n",
       "      <th>prev-pos</th>\n",
       "      <th>prev-prev-pos</th>\n",
       "      <th>prev-prev-word</th>\n",
       "      <th>prev-word</th>\n",
       "      <th>word</th>\n",
       "      <th>tag</th>\n",
       "      <th>length</th>\n",
       "    </tr>\n",
       "  </thead>\n",
       "  <tbody>\n",
       "    <tr>\n",
       "      <th>0</th>\n",
       "      <td>1.0</td>\n",
       "      <td>18</td>\n",
       "      <td>demonstrators</td>\n",
       "      <td>9</td>\n",
       "      <td>of</td>\n",
       "      <td>18</td>\n",
       "      <td>39</td>\n",
       "      <td>40</td>\n",
       "      <td>__START2__</td>\n",
       "      <td>__START1__</td>\n",
       "      <td>Thousands</td>\n",
       "      <td>O</td>\n",
       "      <td>48</td>\n",
       "    </tr>\n",
       "    <tr>\n",
       "      <th>1</th>\n",
       "      <td>1.0</td>\n",
       "      <td>33</td>\n",
       "      <td>have</td>\n",
       "      <td>18</td>\n",
       "      <td>demonstrators</td>\n",
       "      <td>9</td>\n",
       "      <td>18</td>\n",
       "      <td>39</td>\n",
       "      <td>__START1__</td>\n",
       "      <td>Thousands</td>\n",
       "      <td>of</td>\n",
       "      <td>O</td>\n",
       "      <td>48</td>\n",
       "    </tr>\n",
       "    <tr>\n",
       "      <th>2</th>\n",
       "      <td>1.0</td>\n",
       "      <td>32</td>\n",
       "      <td>marched</td>\n",
       "      <td>33</td>\n",
       "      <td>have</td>\n",
       "      <td>18</td>\n",
       "      <td>9</td>\n",
       "      <td>18</td>\n",
       "      <td>Thousands</td>\n",
       "      <td>of</td>\n",
       "      <td>demonstrators</td>\n",
       "      <td>O</td>\n",
       "      <td>48</td>\n",
       "    </tr>\n",
       "    <tr>\n",
       "      <th>3</th>\n",
       "      <td>1.0</td>\n",
       "      <td>9</td>\n",
       "      <td>through</td>\n",
       "      <td>32</td>\n",
       "      <td>marched</td>\n",
       "      <td>33</td>\n",
       "      <td>18</td>\n",
       "      <td>9</td>\n",
       "      <td>of</td>\n",
       "      <td>demonstrators</td>\n",
       "      <td>have</td>\n",
       "      <td>O</td>\n",
       "      <td>48</td>\n",
       "    </tr>\n",
       "    <tr>\n",
       "      <th>4</th>\n",
       "      <td>1.0</td>\n",
       "      <td>16</td>\n",
       "      <td>London</td>\n",
       "      <td>9</td>\n",
       "      <td>through</td>\n",
       "      <td>32</td>\n",
       "      <td>33</td>\n",
       "      <td>18</td>\n",
       "      <td>demonstrators</td>\n",
       "      <td>have</td>\n",
       "      <td>marched</td>\n",
       "      <td>O</td>\n",
       "      <td>48</td>\n",
       "    </tr>\n",
       "  </tbody>\n",
       "</table>\n",
       "</div>"
      ],
      "text/plain": [
       "   sentence_idx  next-next-pos next-next-word  next-pos      next-word  pos  \\\n",
       "0           1.0             18  demonstrators         9             of   18   \n",
       "1           1.0             33           have        18  demonstrators    9   \n",
       "2           1.0             32        marched        33           have   18   \n",
       "3           1.0              9        through        32        marched   33   \n",
       "4           1.0             16         London         9        through   32   \n",
       "\n",
       "   prev-pos  prev-prev-pos prev-prev-word      prev-word           word tag  \\\n",
       "0        39             40     __START2__     __START1__      Thousands   O   \n",
       "1        18             39     __START1__      Thousands             of   O   \n",
       "2         9             18      Thousands             of  demonstrators   O   \n",
       "3        18              9             of  demonstrators           have   O   \n",
       "4        33             18  demonstrators           have        marched   O   \n",
       "\n",
       "   length  \n",
       "0      48  \n",
       "1      48  \n",
       "2      48  \n",
       "3      48  \n",
       "4      48  "
      ]
     },
     "execution_count": 7,
     "metadata": {},
     "output_type": "execute_result"
    }
   ],
   "source": [
    "df.head()"
   ]
  },
  {
   "cell_type": "code",
   "execution_count": 8,
   "metadata": {},
   "outputs": [
    {
     "name": "stdout",
     "output_type": "stream",
     "text": [
      "train 50155\n",
      "test 16719\n"
     ]
    }
   ],
   "source": [
    "# splitting\n",
    "y = LabelEncoder().fit_transform(df.tag)\n",
    "\n",
    "df_train, df_test, y_train, y_test = model_selection.train_test_split(df, y, stratify=y, \n",
    "                                                                      test_size=0.25, random_state=SEED, shuffle=True)\n",
    "print('train', df_train.shape[0])\n",
    "print('test', df_test.shape[0])"
   ]
  },
  {
   "cell_type": "code",
   "execution_count": 9,
   "metadata": {
    "collapsed": true
   },
   "outputs": [],
   "source": [
    "# some wrappers to work with word2vec\n",
    "from gensim.models.word2vec import Word2Vec\n",
    "from sklearn.feature_extraction.text import TfidfVectorizer\n",
    "from sklearn.base import TransformerMixin\n",
    "from collections import defaultdict\n",
    "\n",
    "   \n",
    "class Word2VecWrapper(TransformerMixin):\n",
    "    def __init__(self, window=5,negative=5, size=100, iter=100, is_cbow=False, random_state=SEED):\n",
    "        self.window_ = window\n",
    "        self.negative_ = negative\n",
    "        self.size_ = size\n",
    "        self.iter_ = iter\n",
    "        self.is_cbow_ = is_cbow\n",
    "        self.w2v = None\n",
    "        self.random_state = random_state\n",
    "        \n",
    "    def get_size(self):\n",
    "        return self.size_\n",
    "\n",
    "    def fit(self, X, y=None):\n",
    "        \"\"\"\n",
    "        X: list of strings\n",
    "        \"\"\"\n",
    "        sentences_list = [x.split() for x in X]\n",
    "        self.w2v = Word2Vec(sentences_list, \n",
    "                            window=self.window_,\n",
    "                            negative=self.negative_, \n",
    "                            size=self.size_, \n",
    "                            iter=self.iter_,\n",
    "                            sg=not self.is_cbow_, seed=self.random_state)\n",
    "\n",
    "        return self\n",
    "    \n",
    "    def has(self, word):\n",
    "        return word in self.w2v\n",
    "\n",
    "    def transform(self, X):\n",
    "        \"\"\"\n",
    "        X: a list of words\n",
    "        \"\"\"\n",
    "        if self.w2v is None:\n",
    "            raise Exception('model not fitted')\n",
    "        return np.array([self.w2v[w] if w in self.w2v else np.zeros(self.size_) for w in X ])\n",
    "    \n"
   ]
  },
  {
   "cell_type": "code",
   "execution_count": 11,
   "metadata": {},
   "outputs": [
    {
     "name": "stdout",
     "output_type": "stream",
     "text": [
      "CPU times: user 53.9 s, sys: 713 ms, total: 54.6 s\n",
      "Wall time: 25.5 s\n"
     ]
    }
   ],
   "source": [
    "%%time\n",
    "# here we exploit that word2vec is an unsupervised learning algorithm\n",
    "# so we can train it on the whole dataset (subject to discussion)\n",
    "\n",
    "sentences_list = [x.strip() for x in ' '.join(df.word).split('.')]\n",
    "\n",
    "w2v_cbow = Word2VecWrapper(window=5, negative=5, size=300, iter=300, is_cbow=True, random_state=SEED)\n",
    "w2v_cbow.fit(sentences_list)"
   ]
  },
  {
   "cell_type": "code",
   "execution_count": 12,
   "metadata": {},
   "outputs": [
    {
     "name": "stdout",
     "output_type": "stream",
     "text": [
      "train 0.058877367256\n",
      "test 0.0604395427128\n",
      "CPU times: user 239 ms, sys: 39.8 ms, total: 279 ms\n",
      "Wall time: 289 ms\n"
     ]
    }
   ],
   "source": [
    "%%time\n",
    "# baseline 1 \n",
    "# random labels\n",
    "from sklearn.preprocessing import OneHotEncoder\n",
    "from sklearn.dummy import DummyClassifier\n",
    "\n",
    "\n",
    "columns = ['pos','next-pos','next-next-pos','prev-pos','prev-prev-pos']\n",
    "\n",
    "model = Pipeline([\n",
    "    ('enc', OneHotEncoder()),\n",
    "    ('est', DummyClassifier(random_state=SEED)),\n",
    "])\n",
    "\n",
    "model.fit(df_train[columns], y_train)\n",
    "\n",
    "print('train', metrics.f1_score(y_train, model.predict(df_train[columns]), average='macro'))\n",
    "print('test', metrics.f1_score(y_test, model.predict(df_test[columns]), average='macro'))\n"
   ]
  },
  {
   "cell_type": "code",
   "execution_count": 12,
   "metadata": {},
   "outputs": [
    {
     "name": "stdout",
     "output_type": "stream",
     "text": [
      "train 0.466395002823\n",
      "test 0.396609814216\n",
      "CPU times: user 4min 54s, sys: 21.6 s, total: 5min 15s\n",
      "Wall time: 22min 47s\n"
     ]
    }
   ],
   "source": [
    "%%time\n",
    "# baseline 2 \n",
    "# pos features + one hot encoding + logistic regression\n",
    "from sklearn.preprocessing import OneHotEncoder\n",
    "\n",
    "\n",
    "columns = ['pos','next-pos','next-next-pos','prev-pos','prev-prev-pos']\n",
    "\n",
    "model = Pipeline([\n",
    "    ('enc', OneHotEncoder()),\n",
    "    ('est', LogisticRegressionCV(Cs=5, cv=5, n_jobs=-1, scoring='f1_macro', \n",
    "                             penalty='l2', solver='newton-cg', multi_class='multinomial', random_state=SEED)),\n",
    "])\n",
    "\n",
    "model.fit(df_train[columns], y_train)\n",
    "\n",
    "print('train', metrics.f1_score(y_train, model.predict(df_train[columns]), average='macro'))\n",
    "print('test', metrics.f1_score(y_test, model.predict(df_test[columns]), average='macro'))"
   ]
  },
  {
   "cell_type": "code",
   "execution_count": 14,
   "metadata": {},
   "outputs": [
    {
     "name": "stdout",
     "output_type": "stream",
     "text": [
      "Fitting 3 folds for each of 5 candidates, totalling 15 fits\n"
     ]
    },
    {
     "name": "stderr",
     "output_type": "stream",
     "text": [
      "[Parallel(n_jobs=-1)]: Done  15 out of  15 | elapsed: 11.6min finished\n"
     ]
    },
    {
     "name": "stdout",
     "output_type": "stream",
     "text": [
      "train 0.956854454966\n",
      "test 0.794605411826\n",
      "CPU times: user 3min 28s, sys: 32 s, total: 4min\n",
      "Wall time: 14min 58s\n"
     ]
    }
   ],
   "source": [
    "%%time\n",
    "# baseline 3\n",
    "# use word2vec cbow embedding + baseline 2 + svm\n",
    "from sklearn.linear_model import LogisticRegression, LogisticRegressionCV\n",
    "from sklearn.svm import LinearSVC\n",
    "import scipy.sparse as sp\n",
    "\n",
    "embeding = w2v_cbow\n",
    "encoder_pos = OneHotEncoder()\n",
    "X_train = sp.hstack([\n",
    "    embeding.transform(df_train.word),\n",
    "    embeding.transform(df_train['next-word']),\n",
    "    embeding.transform(df_train['next-next-word']),\n",
    "    embeding.transform(df_train['prev-word']),\n",
    "    embeding.transform(df_train['prev-prev-word']),\n",
    "    encoder_pos.fit_transform(df_train[['pos','next-pos','next-next-pos','prev-pos','prev-prev-pos']])\n",
    "])\n",
    "X_test = sp.hstack([\n",
    "    embeding.transform(df_test.word),\n",
    "    embeding.transform(df_test['next-word']),\n",
    "    embeding.transform(df_test['next-next-word']),\n",
    "    embeding.transform(df_test['prev-word']),\n",
    "    embeding.transform(df_test['prev-prev-word']),\n",
    "    encoder_pos.transform(df_test[['pos','next-pos','next-next-pos','prev-pos','prev-prev-pos']])\n",
    "])\n",
    "\n",
    "model = model_selection.GridSearchCV(LinearSVC(penalty='l2', multi_class='ovr', random_state=SEED), \n",
    "                                    {'C': np.logspace(-4, 0, 5)}, \n",
    "                                    cv=3, scoring='f1_macro', n_jobs=-1, verbose=1)\n",
    "model.fit(X_train, y_train)\n",
    "\n",
    "print('train', metrics.f1_score(y_train, model.predict(X_train), average='macro'))\n",
    "print('test', metrics.f1_score(y_test, model.predict(X_test), average='macro'))"
   ]
  },
  {
   "cell_type": "markdown",
   "metadata": {},
   "source": [
    "### Метод \"в лоб\""
   ]
  },
  {
   "cell_type": "code",
   "execution_count": 61,
   "metadata": {
    "collapsed": true
   },
   "outputs": [],
   "source": [
    "from sklearn.ensemble import RandomForestClassifier"
   ]
  },
  {
   "cell_type": "code",
   "execution_count": 60,
   "metadata": {},
   "outputs": [
    {
     "data": {
      "text/plain": [
       "RandomForestClassifier(bootstrap=True, class_weight=None, criterion='gini',\n",
       "            max_depth=None, max_features='auto', max_leaf_nodes=None,\n",
       "            min_impurity_decrease=0.0, min_impurity_split=None,\n",
       "            min_samples_leaf=1, min_samples_split=2,\n",
       "            min_weight_fraction_leaf=0.0, n_estimators=10, n_jobs=1,\n",
       "            oob_score=False, random_state=1337, verbose=0,\n",
       "            warm_start=False)"
      ]
     },
     "execution_count": 60,
     "metadata": {},
     "output_type": "execute_result"
    }
   ],
   "source": [
    "rf = RandomForestClassifier(random_state=SEED)\n",
    "rf.fit(X_train, y_train)"
   ]
  },
  {
   "cell_type": "code",
   "execution_count": 62,
   "metadata": {},
   "outputs": [
    {
     "name": "stdout",
     "output_type": "stream",
     "text": [
      "train 0.988742270255\n",
      "test 0.844549179338\n"
     ]
    }
   ],
   "source": [
    "print('train', metrics.f1_score(y_train, rf.predict(X_train), average='macro'))\n",
    "print('test', metrics.f1_score(y_test, rf.predict(X_test), average='macro'))"
   ]
  },
  {
   "cell_type": "markdown",
   "metadata": {},
   "source": [
    "Попробуем через грид подобрать лучшие параметры для рандомных деревьев."
   ]
  },
  {
   "cell_type": "code",
   "execution_count": 63,
   "metadata": {
    "collapsed": true
   },
   "outputs": [],
   "source": [
    "from sklearn.model_selection import GridSearchCV"
   ]
  },
  {
   "cell_type": "code",
   "execution_count": 64,
   "metadata": {
    "collapsed": true
   },
   "outputs": [],
   "source": [
    "rf = RandomForestClassifier(random_state=SEED)\n",
    "grid = {'n_estimators': [10, 100, 150],\n",
    "       'max_depth': [10, 100, None],\n",
    "       'criterion': ['gini'],\n",
    "       'min_samples_leaf': [1, 2, 10]}\n",
    "\n",
    "clf = GridSearchCV(rf, grid, n_jobs=-1, scoring='f1_macro', cv=5)"
   ]
  },
  {
   "cell_type": "code",
   "execution_count": 42,
   "metadata": {},
   "outputs": [
    {
     "name": "stdout",
     "output_type": "stream",
     "text": [
      "Fitting 5 folds for each of 27 candidates, totalling 135 fits\n",
      "[CV] criterion=gini, max_depth=10, min_samples_leaf=1, n_estimators=10 \n",
      "[CV] criterion=gini, max_depth=10, min_samples_leaf=1, n_estimators=10 \n",
      "[CV] criterion=gini, max_depth=10, min_samples_leaf=1, n_estimators=10 \n",
      "[CV] criterion=gini, max_depth=10, min_samples_leaf=1, n_estimators=10 \n",
      "[CV]  criterion=gini, max_depth=10, min_samples_leaf=1, n_estimators=10, score=0.26884708818346303, total=  50.0s\n",
      "[CV] criterion=gini, max_depth=10, min_samples_leaf=1, n_estimators=10 \n",
      "[CV]  criterion=gini, max_depth=10, min_samples_leaf=1, n_estimators=10, score=0.2811906958581345, total=  48.8s\n",
      "[CV]  criterion=gini, max_depth=10, min_samples_leaf=1, n_estimators=10, score=0.3126478445923687, total=  47.0s\n",
      "[CV]  criterion=gini, max_depth=10, min_samples_leaf=1, n_estimators=10, score=0.2919992671392564, total=  53.1s\n",
      "[CV] criterion=gini, max_depth=10, min_samples_leaf=1, n_estimators=100 \n",
      "[CV] criterion=gini, max_depth=10, min_samples_leaf=1, n_estimators=100 \n",
      "[CV] criterion=gini, max_depth=10, min_samples_leaf=1, n_estimators=100 \n",
      "[CV]  criterion=gini, max_depth=10, min_samples_leaf=1, n_estimators=10, score=0.25075699263000795, total=  32.7s\n",
      "[CV] criterion=gini, max_depth=10, min_samples_leaf=1, n_estimators=100 \n",
      "[CV]  criterion=gini, max_depth=10, min_samples_leaf=1, n_estimators=100, score=0.2497649605396224, total= 3.5min\n",
      "[CV] criterion=gini, max_depth=10, min_samples_leaf=1, n_estimators=100 \n",
      "[CV]  criterion=gini, max_depth=10, min_samples_leaf=1, n_estimators=100, score=0.25563983794974743, total= 3.5min\n",
      "[CV]  criterion=gini, max_depth=10, min_samples_leaf=1, n_estimators=100, score=0.2549292565683168, total= 3.5min\n",
      "[CV] criterion=gini, max_depth=10, min_samples_leaf=1, n_estimators=150 \n",
      "[CV] criterion=gini, max_depth=10, min_samples_leaf=1, n_estimators=150 \n",
      "[CV]  criterion=gini, max_depth=10, min_samples_leaf=1, n_estimators=100, score=0.2900461425128442, total= 3.5min\n",
      "[CV] criterion=gini, max_depth=10, min_samples_leaf=1, n_estimators=150 \n",
      "[CV]  criterion=gini, max_depth=10, min_samples_leaf=1, n_estimators=100, score=0.2524618087278506, total= 3.3min\n",
      "[CV] criterion=gini, max_depth=10, min_samples_leaf=1, n_estimators=150 \n"
     ]
    },
    {
     "name": "stderr",
     "output_type": "stream",
     "text": [
      "[Parallel(n_jobs=-1)]: Done  10 tasks      | elapsed:  8.6min\n"
     ]
    },
    {
     "name": "stdout",
     "output_type": "stream",
     "text": [
      "[CV]  criterion=gini, max_depth=10, min_samples_leaf=1, n_estimators=150, score=0.25275659470000544, total= 4.9min\n",
      "[CV] criterion=gini, max_depth=10, min_samples_leaf=1, n_estimators=150 \n",
      "[CV]  criterion=gini, max_depth=10, min_samples_leaf=1, n_estimators=150, score=0.2582149524529175, total= 4.9min\n",
      "[CV] criterion=gini, max_depth=10, min_samples_leaf=2, n_estimators=10 \n",
      "[CV]  criterion=gini, max_depth=10, min_samples_leaf=1, n_estimators=150, score=0.2601488857210528, total= 4.8min\n",
      "[CV] criterion=gini, max_depth=10, min_samples_leaf=2, n_estimators=10 \n",
      "[CV]  criterion=gini, max_depth=10, min_samples_leaf=2, n_estimators=10, score=0.21350620668919126, total=  35.0s\n",
      "[CV] criterion=gini, max_depth=10, min_samples_leaf=2, n_estimators=10 \n",
      "[CV]  criterion=gini, max_depth=10, min_samples_leaf=2, n_estimators=10, score=0.24602281638248844, total=  30.0s\n",
      "[CV] criterion=gini, max_depth=10, min_samples_leaf=2, n_estimators=10 \n",
      "[CV]  criterion=gini, max_depth=10, min_samples_leaf=2, n_estimators=10, score=0.23919281765105627, total=  29.7s\n",
      "[CV] criterion=gini, max_depth=10, min_samples_leaf=2, n_estimators=10 \n",
      "[CV]  criterion=gini, max_depth=10, min_samples_leaf=2, n_estimators=10, score=0.2778778511701335, total=  31.6s\n",
      "[CV] criterion=gini, max_depth=10, min_samples_leaf=2, n_estimators=100 \n",
      "[CV]  criterion=gini, max_depth=10, min_samples_leaf=2, n_estimators=10, score=0.25376417243230304, total=  31.9s\n",
      "[CV] criterion=gini, max_depth=10, min_samples_leaf=2, n_estimators=100 \n",
      "[CV]  criterion=gini, max_depth=10, min_samples_leaf=1, n_estimators=150, score=0.2822501659633077, total= 5.3min\n",
      "[CV] criterion=gini, max_depth=10, min_samples_leaf=2, n_estimators=100 \n",
      "[CV]  criterion=gini, max_depth=10, min_samples_leaf=2, n_estimators=100, score=0.21661729008803268, total= 3.4min\n",
      "[CV] criterion=gini, max_depth=10, min_samples_leaf=2, n_estimators=100 \n",
      "[CV]  criterion=gini, max_depth=10, min_samples_leaf=2, n_estimators=100, score=0.23429802460256927, total= 3.4min\n",
      "[CV] criterion=gini, max_depth=10, min_samples_leaf=2, n_estimators=100 \n",
      "[CV]  criterion=gini, max_depth=10, min_samples_leaf=1, n_estimators=150, score=0.25663003851016664, total= 5.4min\n",
      "[CV] criterion=gini, max_depth=10, min_samples_leaf=2, n_estimators=150 \n",
      "[CV]  criterion=gini, max_depth=10, min_samples_leaf=2, n_estimators=100, score=0.2386074606704072, total= 3.4min\n",
      "[CV] criterion=gini, max_depth=10, min_samples_leaf=2, n_estimators=150 \n",
      "[CV]  criterion=gini, max_depth=10, min_samples_leaf=2, n_estimators=100, score=0.25063377764259487, total= 3.5min\n",
      "[CV] criterion=gini, max_depth=10, min_samples_leaf=2, n_estimators=150 \n",
      "[CV]  criterion=gini, max_depth=10, min_samples_leaf=2, n_estimators=100, score=0.24617398222294806, total= 3.4min\n",
      "[CV] criterion=gini, max_depth=10, min_samples_leaf=2, n_estimators=150 \n",
      "[CV]  criterion=gini, max_depth=10, min_samples_leaf=2, n_estimators=150, score=0.21673410536953863, total= 5.1min\n",
      "[CV] criterion=gini, max_depth=10, min_samples_leaf=2, n_estimators=150 \n",
      "[CV]  criterion=gini, max_depth=10, min_samples_leaf=2, n_estimators=150, score=0.2354356284396171, total= 5.3min\n",
      "[CV] criterion=gini, max_depth=10, min_samples_leaf=10, n_estimators=10 \n",
      "[CV]  criterion=gini, max_depth=10, min_samples_leaf=10, n_estimators=10, score=0.2126082932981072, total=  26.2s\n",
      "[CV] criterion=gini, max_depth=10, min_samples_leaf=10, n_estimators=10 \n",
      "[CV]  criterion=gini, max_depth=10, min_samples_leaf=10, n_estimators=10, score=0.24946769264618845, total=  26.3s\n",
      "[CV] criterion=gini, max_depth=10, min_samples_leaf=10, n_estimators=10 \n",
      "[CV]  criterion=gini, max_depth=10, min_samples_leaf=2, n_estimators=150, score=0.24100377892876046, total= 5.4min\n",
      "[CV] criterion=gini, max_depth=10, min_samples_leaf=10, n_estimators=10 \n",
      "[CV]  criterion=gini, max_depth=10, min_samples_leaf=10, n_estimators=10, score=0.22799839414514447, total=  28.9s\n",
      "[CV] criterion=gini, max_depth=10, min_samples_leaf=10, n_estimators=10 \n",
      "[CV]  criterion=gini, max_depth=10, min_samples_leaf=2, n_estimators=150, score=0.2649212326915956, total= 5.3min\n",
      "[CV] criterion=gini, max_depth=10, min_samples_leaf=10, n_estimators=100 \n",
      "[CV]  criterion=gini, max_depth=10, min_samples_leaf=10, n_estimators=10, score=0.24507175396649233, total=  30.6s\n",
      "[CV] criterion=gini, max_depth=10, min_samples_leaf=10, n_estimators=100 \n",
      "[CV]  criterion=gini, max_depth=10, min_samples_leaf=10, n_estimators=10, score=0.21006124108634172, total=  27.2s\n",
      "[CV] criterion=gini, max_depth=10, min_samples_leaf=10, n_estimators=100 \n",
      "[CV]  criterion=gini, max_depth=10, min_samples_leaf=2, n_estimators=150, score=0.25030012593530127, total= 5.2min\n",
      "[CV] criterion=gini, max_depth=10, min_samples_leaf=10, n_estimators=100 \n",
      "[CV]  criterion=gini, max_depth=10, min_samples_leaf=10, n_estimators=100, score=0.2130229397401972, total= 3.4min\n",
      "[CV] criterion=gini, max_depth=10, min_samples_leaf=10, n_estimators=100 \n",
      "[CV]  criterion=gini, max_depth=10, min_samples_leaf=10, n_estimators=100, score=0.2268291603787575, total= 3.4min\n",
      "[CV] criterion=gini, max_depth=10, min_samples_leaf=10, n_estimators=150 \n",
      "[CV]  criterion=gini, max_depth=10, min_samples_leaf=10, n_estimators=100, score=0.21900577363869078, total= 3.5min\n",
      "[CV] criterion=gini, max_depth=10, min_samples_leaf=10, n_estimators=150 \n",
      "[CV]  criterion=gini, max_depth=10, min_samples_leaf=10, n_estimators=100, score=0.23518005561701863, total= 3.5min\n",
      "[CV] criterion=gini, max_depth=10, min_samples_leaf=10, n_estimators=150 \n",
      "[CV]  criterion=gini, max_depth=10, min_samples_leaf=10, n_estimators=100, score=0.22129326020599288, total= 3.6min\n",
      "[CV] criterion=gini, max_depth=10, min_samples_leaf=10, n_estimators=150 \n",
      "[CV]  criterion=gini, max_depth=10, min_samples_leaf=10, n_estimators=150, score=0.2160996020316083, total= 5.4min\n",
      "[CV] criterion=gini, max_depth=10, min_samples_leaf=10, n_estimators=150 \n",
      "[CV]  criterion=gini, max_depth=10, min_samples_leaf=10, n_estimators=150, score=0.2266183162310659, total= 5.3min\n",
      "[CV] criterion=gini, max_depth=100, min_samples_leaf=1, n_estimators=10 \n",
      "[CV]  criterion=gini, max_depth=10, min_samples_leaf=10, n_estimators=150, score=0.2257729439338803, total= 5.5min\n",
      "[CV] criterion=gini, max_depth=100, min_samples_leaf=1, n_estimators=10 \n",
      "[CV]  criterion=gini, max_depth=100, min_samples_leaf=1, n_estimators=10, score=0.7892226732311985, total= 1.8min\n",
      "[CV] criterion=gini, max_depth=100, min_samples_leaf=1, n_estimators=10 \n",
      "[CV]  criterion=gini, max_depth=10, min_samples_leaf=10, n_estimators=150, score=0.2417658141944339, total= 5.2min\n",
      "[CV] criterion=gini, max_depth=100, min_samples_leaf=1, n_estimators=10 \n",
      "[CV]  criterion=gini, max_depth=100, min_samples_leaf=1, n_estimators=10, score=0.8531761316732971, total= 1.8min\n",
      "[CV] criterion=gini, max_depth=100, min_samples_leaf=1, n_estimators=10 \n",
      "[CV]  criterion=gini, max_depth=100, min_samples_leaf=1, n_estimators=10, score=0.7601652361242788, total= 1.7min\n",
      "[CV] criterion=gini, max_depth=100, min_samples_leaf=1, n_estimators=100 \n",
      "[CV]  criterion=gini, max_depth=100, min_samples_leaf=1, n_estimators=10, score=0.7915926159059771, total= 1.6min\n",
      "[CV] criterion=gini, max_depth=100, min_samples_leaf=1, n_estimators=100 \n",
      "[CV]  criterion=gini, max_depth=10, min_samples_leaf=10, n_estimators=150, score=0.22537676412646465, total= 4.9min\n",
      "[CV] criterion=gini, max_depth=100, min_samples_leaf=1, n_estimators=100 \n",
      "[CV]  criterion=gini, max_depth=100, min_samples_leaf=1, n_estimators=10, score=0.8671310634712058, total= 1.7min\n",
      "[CV] criterion=gini, max_depth=100, min_samples_leaf=1, n_estimators=100 \n",
      "[CV]  criterion=gini, max_depth=100, min_samples_leaf=1, n_estimators=100, score=0.824773849370514, total=15.4min\n",
      "[CV] criterion=gini, max_depth=100, min_samples_leaf=1, n_estimators=100 \n",
      "[CV]  criterion=gini, max_depth=100, min_samples_leaf=1, n_estimators=100, score=0.864642801321993, total=15.7min\n",
      "[CV] criterion=gini, max_depth=100, min_samples_leaf=1, n_estimators=150 \n",
      "[CV]  criterion=gini, max_depth=100, min_samples_leaf=1, n_estimators=100, score=0.7658465650998755, total=15.5min\n",
      "[CV] criterion=gini, max_depth=100, min_samples_leaf=1, n_estimators=150 \n",
      "[CV]  criterion=gini, max_depth=100, min_samples_leaf=1, n_estimators=100, score=0.8196018386360949, total=15.7min\n"
     ]
    },
    {
     "name": "stdout",
     "output_type": "stream",
     "text": [
      "[CV] criterion=gini, max_depth=100, min_samples_leaf=1, n_estimators=150 \n",
      "[CV]  criterion=gini, max_depth=100, min_samples_leaf=1, n_estimators=100, score=0.8699601466242705, total=16.3min\n",
      "[CV] criterion=gini, max_depth=100, min_samples_leaf=1, n_estimators=150 \n",
      "[CV]  criterion=gini, max_depth=100, min_samples_leaf=1, n_estimators=150, score=0.8266075274451227, total=24.8min\n",
      "[CV] criterion=gini, max_depth=100, min_samples_leaf=1, n_estimators=150 \n",
      "[CV]  criterion=gini, max_depth=100, min_samples_leaf=1, n_estimators=150, score=0.8651392634554388, total=24.7min\n",
      "[CV] criterion=gini, max_depth=100, min_samples_leaf=2, n_estimators=10 \n",
      "[CV]  criterion=gini, max_depth=100, min_samples_leaf=1, n_estimators=150, score=0.7679720115290866, total=24.7min\n",
      "[CV] criterion=gini, max_depth=100, min_samples_leaf=2, n_estimators=10 \n",
      "[CV]  criterion=gini, max_depth=100, min_samples_leaf=2, n_estimators=10, score=0.7343214622804778, total= 1.6min\n",
      "[CV] criterion=gini, max_depth=100, min_samples_leaf=2, n_estimators=10 \n",
      "[CV]  criterion=gini, max_depth=100, min_samples_leaf=2, n_estimators=10, score=0.6759983300658938, total= 1.6min\n",
      "[CV] criterion=gini, max_depth=100, min_samples_leaf=2, n_estimators=10 \n",
      "[CV]  criterion=gini, max_depth=100, min_samples_leaf=2, n_estimators=10, score=0.6589660383281416, total= 1.4min\n",
      "[CV] criterion=gini, max_depth=100, min_samples_leaf=2, n_estimators=10 \n",
      "[CV]  criterion=gini, max_depth=100, min_samples_leaf=2, n_estimators=10, score=0.7039554750628805, total= 1.5min\n",
      "[CV] criterion=gini, max_depth=100, min_samples_leaf=2, n_estimators=100 \n",
      "[CV]  criterion=gini, max_depth=100, min_samples_leaf=2, n_estimators=10, score=0.7642243235812318, total= 1.7min\n",
      "[CV] criterion=gini, max_depth=100, min_samples_leaf=2, n_estimators=100 \n",
      "[CV]  criterion=gini, max_depth=100, min_samples_leaf=1, n_estimators=150, score=0.8255894816312048, total=24.6min\n"
     ]
    },
    {
     "name": "stderr",
     "output_type": "stream",
     "text": [
      "[Parallel(n_jobs=-1)]: Done  64 tasks      | elapsed: 96.9min\n"
     ]
    },
    {
     "name": "stdout",
     "output_type": "stream",
     "text": [
      "[CV] criterion=gini, max_depth=100, min_samples_leaf=2, n_estimators=100 \n",
      "[CV]  criterion=gini, max_depth=100, min_samples_leaf=2, n_estimators=100, score=0.7648667096628128, total=13.4min\n",
      "[CV] criterion=gini, max_depth=100, min_samples_leaf=2, n_estimators=100 \n",
      "[CV]  criterion=gini, max_depth=100, min_samples_leaf=2, n_estimators=100, score=0.77413212664126, total=12.9min\n",
      "[CV] criterion=gini, max_depth=100, min_samples_leaf=2, n_estimators=100 \n",
      "[CV]  criterion=gini, max_depth=100, min_samples_leaf=1, n_estimators=150, score=0.8710251499358451, total=24.1min\n",
      "[CV] criterion=gini, max_depth=100, min_samples_leaf=2, n_estimators=150 \n",
      "[CV]  criterion=gini, max_depth=100, min_samples_leaf=2, n_estimators=100, score=0.7133878364530618, total=13.3min\n",
      "[CV] criterion=gini, max_depth=100, min_samples_leaf=2, n_estimators=150 \n",
      "[CV]  criterion=gini, max_depth=100, min_samples_leaf=2, n_estimators=100, score=0.7882368433662609, total=13.4min\n",
      "[CV] criterion=gini, max_depth=100, min_samples_leaf=2, n_estimators=150 \n",
      "[CV]  criterion=gini, max_depth=100, min_samples_leaf=2, n_estimators=100, score=0.8147242900210987, total=13.6min\n",
      "[CV] criterion=gini, max_depth=100, min_samples_leaf=2, n_estimators=150 \n",
      "[CV]  criterion=gini, max_depth=100, min_samples_leaf=2, n_estimators=150, score=0.7664099551449288, total=19.8min\n",
      "[CV] criterion=gini, max_depth=100, min_samples_leaf=2, n_estimators=150 \n",
      "[CV]  criterion=gini, max_depth=100, min_samples_leaf=2, n_estimators=150, score=0.7746857491307788, total=19.7min\n",
      "[CV] criterion=gini, max_depth=100, min_samples_leaf=10, n_estimators=10 \n",
      "[CV]  criterion=gini, max_depth=100, min_samples_leaf=10, n_estimators=10, score=0.3807645285056046, total= 1.1min\n",
      "[CV] criterion=gini, max_depth=100, min_samples_leaf=10, n_estimators=10 \n",
      "[CV]  criterion=gini, max_depth=100, min_samples_leaf=2, n_estimators=150, score=0.717819876324259, total=19.3min\n",
      "[CV] criterion=gini, max_depth=100, min_samples_leaf=10, n_estimators=10 \n",
      "[CV]  criterion=gini, max_depth=100, min_samples_leaf=10, n_estimators=10, score=0.36493790987678965, total= 1.3min\n",
      "[CV] criterion=gini, max_depth=100, min_samples_leaf=10, n_estimators=10 \n",
      "[CV]  criterion=gini, max_depth=100, min_samples_leaf=10, n_estimators=10, score=0.34665121850376307, total= 1.3min\n",
      "[CV] criterion=gini, max_depth=100, min_samples_leaf=10, n_estimators=10 \n",
      "[CV]  criterion=gini, max_depth=100, min_samples_leaf=2, n_estimators=150, score=0.7896313021271764, total=19.6min\n",
      "[CV] criterion=gini, max_depth=100, min_samples_leaf=10, n_estimators=100 \n",
      "[CV]  criterion=gini, max_depth=100, min_samples_leaf=10, n_estimators=10, score=0.3799021816112588, total= 1.3min\n",
      "[CV] criterion=gini, max_depth=100, min_samples_leaf=10, n_estimators=100 \n",
      "[CV]  criterion=gini, max_depth=100, min_samples_leaf=10, n_estimators=10, score=0.36464797122064274, total= 1.2min\n",
      "[CV] criterion=gini, max_depth=100, min_samples_leaf=10, n_estimators=100 \n",
      "[CV]  criterion=gini, max_depth=100, min_samples_leaf=10, n_estimators=100, score=0.3846128746733974, total= 9.8min\n",
      "[CV] criterion=gini, max_depth=100, min_samples_leaf=10, n_estimators=100 \n",
      "[CV]  criterion=gini, max_depth=100, min_samples_leaf=10, n_estimators=100, score=0.37685959962350024, total= 9.8min\n",
      "[CV] criterion=gini, max_depth=100, min_samples_leaf=10, n_estimators=100 \n",
      "[CV]  criterion=gini, max_depth=100, min_samples_leaf=10, n_estimators=100, score=0.36457439003591136, total= 9.5min\n",
      "[CV] criterion=gini, max_depth=100, min_samples_leaf=10, n_estimators=150 \n",
      "[CV]  criterion=gini, max_depth=100, min_samples_leaf=2, n_estimators=150, score=0.8155489131794901, total=20.1min\n",
      "[CV] criterion=gini, max_depth=100, min_samples_leaf=10, n_estimators=150 \n",
      "[CV]  criterion=gini, max_depth=100, min_samples_leaf=10, n_estimators=100, score=0.3778436677699948, total= 9.6min\n",
      "[CV] criterion=gini, max_depth=100, min_samples_leaf=10, n_estimators=150 \n",
      "[CV]  criterion=gini, max_depth=100, min_samples_leaf=10, n_estimators=100, score=0.3725121098601867, total= 9.7min\n",
      "[CV] criterion=gini, max_depth=100, min_samples_leaf=10, n_estimators=150 \n",
      "[CV]  criterion=gini, max_depth=100, min_samples_leaf=10, n_estimators=150, score=0.3842688271577708, total=14.4min\n",
      "[CV] criterion=gini, max_depth=100, min_samples_leaf=10, n_estimators=150 \n",
      "[CV]  criterion=gini, max_depth=100, min_samples_leaf=10, n_estimators=150, score=0.38374028664117, total=14.3min\n",
      "[CV] criterion=gini, max_depth=None, min_samples_leaf=1, n_estimators=10 \n",
      "[CV]  criterion=gini, max_depth=None, min_samples_leaf=1, n_estimators=10, score=0.7892226732311985, total= 1.6min\n",
      "[CV] criterion=gini, max_depth=None, min_samples_leaf=1, n_estimators=10 \n",
      "[CV]  criterion=gini, max_depth=None, min_samples_leaf=1, n_estimators=10, score=0.8531761316732971, total= 1.6min\n",
      "[CV] criterion=gini, max_depth=None, min_samples_leaf=1, n_estimators=10 \n",
      "[CV]  criterion=gini, max_depth=None, min_samples_leaf=1, n_estimators=10, score=0.7601652361242788, total= 1.5min\n",
      "[CV] criterion=gini, max_depth=None, min_samples_leaf=1, n_estimators=10 \n",
      "[CV]  criterion=gini, max_depth=100, min_samples_leaf=10, n_estimators=150, score=0.3613702177759583, total=13.6min\n",
      "[CV] criterion=gini, max_depth=None, min_samples_leaf=1, n_estimators=10 \n",
      "[CV]  criterion=gini, max_depth=None, min_samples_leaf=1, n_estimators=10, score=0.7915926159059771, total= 1.6min\n",
      "[CV] criterion=gini, max_depth=None, min_samples_leaf=1, n_estimators=100 \n",
      "[CV]  criterion=gini, max_depth=100, min_samples_leaf=10, n_estimators=150, score=0.37632712157449444, total=13.5min\n",
      "[CV] criterion=gini, max_depth=None, min_samples_leaf=1, n_estimators=100 \n",
      "[CV]  criterion=gini, max_depth=None, min_samples_leaf=1, n_estimators=10, score=0.8671310634712058, total= 1.7min\n",
      "[CV] criterion=gini, max_depth=None, min_samples_leaf=1, n_estimators=100 \n",
      "[CV]  criterion=gini, max_depth=100, min_samples_leaf=10, n_estimators=150, score=0.379714411906636, total=13.6min\n",
      "[CV] criterion=gini, max_depth=None, min_samples_leaf=1, n_estimators=100 \n",
      "[CV]  criterion=gini, max_depth=None, min_samples_leaf=1, n_estimators=100, score=0.824773849370514, total=14.5min\n",
      "[CV] criterion=gini, max_depth=None, min_samples_leaf=1, n_estimators=100 \n",
      "[CV]  criterion=gini, max_depth=None, min_samples_leaf=1, n_estimators=100, score=0.864642801321993, total=14.6min\n",
      "[CV] criterion=gini, max_depth=None, min_samples_leaf=1, n_estimators=150 \n",
      "[CV]  criterion=gini, max_depth=None, min_samples_leaf=1, n_estimators=100, score=0.7658465650998755, total=14.5min\n",
      "[CV] criterion=gini, max_depth=None, min_samples_leaf=1, n_estimators=150 \n",
      "[CV]  criterion=gini, max_depth=None, min_samples_leaf=1, n_estimators=100, score=0.8196018386360949, total=14.6min\n",
      "[CV] criterion=gini, max_depth=None, min_samples_leaf=1, n_estimators=150 \n",
      "[CV]  criterion=gini, max_depth=None, min_samples_leaf=1, n_estimators=100, score=0.8699601466242705, total=15.0min\n",
      "[CV] criterion=gini, max_depth=None, min_samples_leaf=1, n_estimators=150 \n",
      "[CV]  criterion=gini, max_depth=None, min_samples_leaf=1, n_estimators=150, score=0.8266075274451227, total=21.9min\n",
      "[CV] criterion=gini, max_depth=None, min_samples_leaf=1, n_estimators=150 \n",
      "[CV]  criterion=gini, max_depth=None, min_samples_leaf=1, n_estimators=150, score=0.8651392634554388, total=21.9min\n",
      "[CV] criterion=gini, max_depth=None, min_samples_leaf=2, n_estimators=10 \n",
      "[CV]  criterion=gini, max_depth=None, min_samples_leaf=2, n_estimators=10, score=0.7343214622804778, total= 1.4min\n",
      "[CV] criterion=gini, max_depth=None, min_samples_leaf=2, n_estimators=10 \n",
      "[CV]  criterion=gini, max_depth=None, min_samples_leaf=2, n_estimators=10, score=0.6759983300658938, total= 1.4min\n",
      "[CV] criterion=gini, max_depth=None, min_samples_leaf=2, n_estimators=10 \n",
      "[CV]  criterion=gini, max_depth=None, min_samples_leaf=1, n_estimators=150, score=0.7679720115290866, total=21.9min\n",
      "[CV] criterion=gini, max_depth=None, min_samples_leaf=2, n_estimators=10 \n",
      "[CV]  criterion=gini, max_depth=None, min_samples_leaf=2, n_estimators=10, score=0.6589660383281416, total= 1.4min\n",
      "[CV] criterion=gini, max_depth=None, min_samples_leaf=2, n_estimators=10 \n",
      "[CV]  criterion=gini, max_depth=None, min_samples_leaf=2, n_estimators=10, score=0.7039554750628805, total= 1.4min\n",
      "[CV] criterion=gini, max_depth=None, min_samples_leaf=2, n_estimators=100 \n"
     ]
    },
    {
     "name": "stdout",
     "output_type": "stream",
     "text": [
      "[CV]  criterion=gini, max_depth=None, min_samples_leaf=2, n_estimators=10, score=0.7642243235812318, total= 1.4min\n",
      "[CV] criterion=gini, max_depth=None, min_samples_leaf=2, n_estimators=100 \n",
      "[CV]  criterion=gini, max_depth=None, min_samples_leaf=1, n_estimators=150, score=0.8255894816312048, total=21.7min\n",
      "[CV] criterion=gini, max_depth=None, min_samples_leaf=2, n_estimators=100 \n",
      "[CV]  criterion=gini, max_depth=None, min_samples_leaf=2, n_estimators=100, score=0.7648667096628128, total=12.3min\n",
      "[CV] criterion=gini, max_depth=None, min_samples_leaf=2, n_estimators=100 \n",
      "[CV]  criterion=gini, max_depth=None, min_samples_leaf=2, n_estimators=100, score=0.77413212664126, total=12.1min\n",
      "[CV] criterion=gini, max_depth=None, min_samples_leaf=2, n_estimators=100 \n",
      "[CV]  criterion=gini, max_depth=None, min_samples_leaf=1, n_estimators=150, score=0.8710251499358451, total=22.1min\n",
      "[CV] criterion=gini, max_depth=None, min_samples_leaf=2, n_estimators=150 \n",
      "[CV]  criterion=gini, max_depth=None, min_samples_leaf=2, n_estimators=100, score=0.7133878364530618, total=12.1min\n",
      "[CV] criterion=gini, max_depth=None, min_samples_leaf=2, n_estimators=150 \n",
      "[CV]  criterion=gini, max_depth=None, min_samples_leaf=2, n_estimators=100, score=0.7882368433662609, total=12.2min\n",
      "[CV] criterion=gini, max_depth=None, min_samples_leaf=2, n_estimators=150 \n",
      "[CV]  criterion=gini, max_depth=None, min_samples_leaf=2, n_estimators=100, score=0.8147242900210987, total=12.3min\n",
      "[CV] criterion=gini, max_depth=None, min_samples_leaf=2, n_estimators=150 \n",
      "[CV]  criterion=gini, max_depth=None, min_samples_leaf=2, n_estimators=150, score=0.7664099551449288, total=18.3min\n",
      "[CV] criterion=gini, max_depth=None, min_samples_leaf=2, n_estimators=150 \n",
      "[CV]  criterion=gini, max_depth=None, min_samples_leaf=2, n_estimators=150, score=0.7746857491307788, total=18.3min\n",
      "[CV] criterion=gini, max_depth=None, min_samples_leaf=10, n_estimators=10 \n",
      "[CV]  criterion=gini, max_depth=None, min_samples_leaf=10, n_estimators=10, score=0.3807645285056046, total= 1.0min\n",
      "[CV] criterion=gini, max_depth=None, min_samples_leaf=10, n_estimators=10 \n",
      "[CV]  criterion=gini, max_depth=None, min_samples_leaf=10, n_estimators=10, score=0.36493790987678965, total= 1.0min\n",
      "[CV] criterion=gini, max_depth=None, min_samples_leaf=10, n_estimators=10 \n",
      "[CV]  criterion=gini, max_depth=None, min_samples_leaf=10, n_estimators=10, score=0.34665121850376307, total=  59.9s\n",
      "[CV] criterion=gini, max_depth=None, min_samples_leaf=10, n_estimators=10 \n",
      "[CV]  criterion=gini, max_depth=None, min_samples_leaf=2, n_estimators=150, score=0.717819876324259, total=18.0min\n",
      "[CV] criterion=gini, max_depth=None, min_samples_leaf=10, n_estimators=10 \n",
      "[CV]  criterion=gini, max_depth=None, min_samples_leaf=10, n_estimators=10, score=0.3799021816112588, total= 1.0min\n",
      "[CV] criterion=gini, max_depth=None, min_samples_leaf=10, n_estimators=100 \n",
      "[CV]  criterion=gini, max_depth=None, min_samples_leaf=2, n_estimators=150, score=0.7896313021271764, total=18.0min\n",
      "[CV] criterion=gini, max_depth=None, min_samples_leaf=10, n_estimators=100 \n",
      "[CV]  criterion=gini, max_depth=None, min_samples_leaf=10, n_estimators=10, score=0.36464797122064274, total= 1.1min\n",
      "[CV] criterion=gini, max_depth=None, min_samples_leaf=10, n_estimators=100 \n",
      "[CV]  criterion=gini, max_depth=None, min_samples_leaf=10, n_estimators=100, score=0.3846128746733974, total= 8.9min\n",
      "[CV] criterion=gini, max_depth=None, min_samples_leaf=10, n_estimators=100 \n",
      "[CV]  criterion=gini, max_depth=None, min_samples_leaf=10, n_estimators=100, score=0.37685959962350024, total= 8.9min\n",
      "[CV] criterion=gini, max_depth=None, min_samples_leaf=10, n_estimators=100 \n",
      "[CV]  criterion=gini, max_depth=None, min_samples_leaf=2, n_estimators=150, score=0.8155489131794901, total=18.2min\n",
      "[CV] criterion=gini, max_depth=None, min_samples_leaf=10, n_estimators=150 \n",
      "[CV]  criterion=gini, max_depth=None, min_samples_leaf=10, n_estimators=100, score=0.36457439003591136, total= 8.8min\n",
      "[CV] criterion=gini, max_depth=None, min_samples_leaf=10, n_estimators=150 \n",
      "[CV]  criterion=gini, max_depth=None, min_samples_leaf=10, n_estimators=100, score=0.3778436677699948, total= 8.8min\n",
      "[CV] criterion=gini, max_depth=None, min_samples_leaf=10, n_estimators=150 \n",
      "[CV]  criterion=gini, max_depth=None, min_samples_leaf=10, n_estimators=100, score=0.3725121098601867, total= 8.9min\n",
      "[CV] criterion=gini, max_depth=None, min_samples_leaf=10, n_estimators=150 \n",
      "[CV]  criterion=gini, max_depth=None, min_samples_leaf=10, n_estimators=150, score=0.3842688271577708, total=13.3min\n",
      "[CV] criterion=gini, max_depth=None, min_samples_leaf=10, n_estimators=150 \n",
      "[CV]  criterion=gini, max_depth=None, min_samples_leaf=10, n_estimators=150, score=0.38374028664117, total=13.4min\n",
      "[CV]  criterion=gini, max_depth=None, min_samples_leaf=10, n_estimators=150, score=0.3613702177759583, total=12.1min\n",
      "[CV]  criterion=gini, max_depth=None, min_samples_leaf=10, n_estimators=150, score=0.37632712157449444, total=11.9min\n",
      "[CV]  criterion=gini, max_depth=None, min_samples_leaf=10, n_estimators=150, score=0.379714411906636, total=10.8min\n"
     ]
    },
    {
     "name": "stderr",
     "output_type": "stream",
     "text": [
      "[Parallel(n_jobs=-1)]: Done 135 out of 135 | elapsed: 290.9min finished\n"
     ]
    },
    {
     "name": "stdout",
     "output_type": "stream",
     "text": [
      "CPU times: user 23min 51s, sys: 1min 9s, total: 25min\n",
      "Wall time: 5h 10min 56s\n"
     ]
    }
   ],
   "source": [
    "%%time\n",
    "\n",
    "clf.fit(X_train, y_train)"
   ]
  },
  {
   "cell_type": "code",
   "execution_count": 44,
   "metadata": {},
   "outputs": [
    {
     "data": {
      "text/plain": [
       "{'criterion': 'gini',\n",
       " 'max_depth': 100,\n",
       " 'min_samples_leaf': 1,\n",
       " 'n_estimators': 150}"
      ]
     },
     "execution_count": 44,
     "metadata": {},
     "output_type": "execute_result"
    }
   ],
   "source": [
    "clf.best_params_"
   ]
  },
  {
   "cell_type": "code",
   "execution_count": 43,
   "metadata": {},
   "outputs": [
    {
     "name": "stdout",
     "output_type": "stream",
     "text": [
      "train 0.994224593315\n",
      "test 0.866641772658\n"
     ]
    }
   ],
   "source": [
    "print('train', metrics.f1_score(y_train, clf.predict(X_train), average='macro'))\n",
    "print('test', metrics.f1_score(y_test, clf.predict(X_test), average='macro'))"
   ]
  },
  {
   "cell_type": "markdown",
   "metadata": {},
   "source": [
    "### Why we selected f1 score with macro averaging as our classification quality measure? What other metrics are suitable?"
   ]
  },
  {
   "cell_type": "markdown",
   "metadata": {},
   "source": [
    "Потому что классы совсем не сбалансированы. Альтернативой (очень плохой) для f1 могла бы быть метрика accuracy, но при таком дисбалансе она бы всегда показывала очень хорошие результаты в независимости от реальности."
   ]
  },
  {
   "cell_type": "code",
   "execution_count": null,
   "metadata": {
    "collapsed": true
   },
   "outputs": [],
   "source": []
  }
 ],
 "metadata": {
  "kernelspec": {
   "display_name": "Python 3",
   "language": "python",
   "name": "python3"
  },
  "language_info": {
   "codemirror_mode": {
    "name": "ipython",
    "version": 3
   },
   "file_extension": ".py",
   "mimetype": "text/x-python",
   "name": "python",
   "nbconvert_exporter": "python",
   "pygments_lexer": "ipython3",
   "version": "3.6.3"
  }
 },
 "nbformat": 4,
 "nbformat_minor": 2
}
